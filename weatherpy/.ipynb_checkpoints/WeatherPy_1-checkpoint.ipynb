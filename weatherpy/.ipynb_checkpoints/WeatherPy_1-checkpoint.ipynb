{
 "cells": [
  {
   "cell_type": "code",
   "execution_count": 45,
   "metadata": {},
   "outputs": [],
   "source": [
    "# Dependencies and Setup\n",
    "import matplotlib.pyplot as plt\n",
    "import pandas as pd\n",
    "import numpy as np\n",
    "import pprint\n",
    "import requests\n",
    "import time\n",
    "import json\n",
    "from scipy.stats import linregress\n",
    "import scipy.stats as st\n",
    "\n",
    "# Incorporated citipy to determine city based on latitude and longitude\n",
    "from citipy import citipy"
   ]
  },
  {
   "cell_type": "code",
   "execution_count": 2,
   "metadata": {},
   "outputs": [],
   "source": [
    "# Import API key\n",
    "from api_keys import weather_api_key"
   ]
  },
  {
   "cell_type": "code",
   "execution_count": 3,
   "metadata": {},
   "outputs": [],
   "source": [
    "# Output File (CSV)\n",
    "output_data_file = \"output_data/cities.csv\""
   ]
  },
  {
   "cell_type": "code",
   "execution_count": 4,
   "metadata": {},
   "outputs": [],
   "source": [
    "# Range of latitudes and longitudes\n",
    "lat_range = (-90, 90)\n",
    "lng_range = (-180, 180)"
   ]
  },
  {
   "cell_type": "code",
   "execution_count": 5,
   "metadata": {},
   "outputs": [
    {
     "data": {
      "text/plain": [
       "619"
      ]
     },
     "execution_count": 5,
     "metadata": {},
     "output_type": "execute_result"
    }
   ],
   "source": [
    "# List for holding lat_lngs and cities\n",
    "lat_lngs = []\n",
    "cities = []\n",
    "\n",
    "# Create a set of random lat and lng combinations\n",
    "lats = np.random.uniform(lat_range[0], lat_range[1], size=1500)\n",
    "lngs = np.random.uniform(lng_range[0], lng_range[1], size=1500)\n",
    "lat_lngs = zip(lats, lngs)\n",
    "\n",
    "# Identify nearest city for each lat, lng combination\n",
    "for lat_lng in lat_lngs:\n",
    "    city = citipy.nearest_city(lat_lng[0], lat_lng[1]).city_name\n",
    "    \n",
    "    # If the city is unique, then add it to a our cities list\n",
    "    if city not in cities:\n",
    "        cities.append(city)\n",
    "\n",
    "# Print the city count to confirm sufficient count\n",
    "len(cities)"
   ]
  },
  {
   "cell_type": "code",
   "execution_count": 6,
   "metadata": {},
   "outputs": [],
   "source": [
    "# Save config information.\n",
    "url = \"http://api.openweathermap.org/data/2.5/weather?\"\n",
    "units = \"Imperial\"\n",
    "\n",
    "# Build partial query URL\n",
    "query_url = f\"{url}appid={weather_api_key}&units={units}&q=\""
   ]
  },
  {
   "cell_type": "code",
   "execution_count": 7,
   "metadata": {},
   "outputs": [
    {
     "name": "stdout",
     "output_type": "stream",
     "text": [
      "{'coord': {'lon': -99.23, 'lat': 25.7}, 'weather': [{'id': 800, 'main': 'Clear', 'description': 'clear sky', 'icon': '01d'}], 'base': 'stations', 'main': {'temp': 98.11, 'feels_like': 97.05, 'temp_min': 98.11, 'temp_max': 98.11, 'pressure': 1010, 'humidity': 29, 'sea_level': 1010, 'grnd_level': 993}, 'wind': {'speed': 7.94, 'deg': 81}, 'clouds': {'all': 0}, 'dt': 1588708230, 'sys': {'country': 'MX', 'sunrise': 1588679816, 'sunset': 1588727407}, 'timezone': -18000, 'id': 3530839, 'name': 'China', 'cod': 200}\n"
     ]
    }
   ],
   "source": [
    "view = requests.get(query_url + \"china\").json()\n",
    "print(view)\n",
    "#print(json.dumps(view,indent=4, sort_keys=True))"
   ]
  },
  {
   "cell_type": "code",
   "execution_count": 13,
   "metadata": {},
   "outputs": [
    {
     "name": "stdout",
     "output_type": "stream",
     "text": [
      "illoqqortoormiut was not found\n",
      "belushya guba was not found\n",
      "ishlei was not found\n",
      "ardistan was not found\n",
      "marcona was not found\n",
      "nizhneyansk was not found\n",
      "grand river south east was not found\n",
      "aflu was not found\n",
      "haibowan was not found\n",
      "ust-bolsheretsk was not found\n",
      "taolanaro was not found\n",
      "solsvik was not found\n",
      "kegayli was not found\n",
      "sedelnikovo was not found\n",
      "mutsamudu was not found\n",
      "wahran was not found\n",
      "umzimvubu was not found\n",
      "barentsburg was not found\n",
      "kuche was not found\n",
      "bajo baudo was not found\n",
      "vaitupu was not found\n",
      "tsihombe was not found\n",
      "samusu was not found\n",
      "duz was not found\n",
      "cam pha was not found\n",
      "amderma was not found\n",
      "saleaula was not found\n",
      "tumannyy was not found\n",
      "mys shmidta was not found\n",
      "paucartambo was not found\n",
      "sentyabrskiy was not found\n",
      "addi ugri was not found\n",
      "sinkat was not found\n",
      "louisbourg was not found\n",
      "utiroa was not found\n",
      "warqla was not found\n",
      "safwah was not found\n",
      "fort saint john was not found\n",
      "tabiauea was not found\n",
      "halalo was not found\n",
      "saryshagan was not found\n",
      "falealupo was not found\n",
      "attawapiskat was not found\n",
      "hihifo was not found\n",
      "uk was not found\n",
      "bacuit was not found\n",
      "galiwinku was not found\n",
      "dien bien was not found\n",
      "santa eulalia del rio was not found\n",
      "rawannawi was not found\n",
      "palabuhanratu was not found\n",
      "khonuu was not found\n",
      "tabulbah was not found\n"
     ]
    }
   ],
   "source": [
    "#So far I have a list of cites and an access to the api. I'm not sure if I have lat stored but i can easily collect it\n",
    "#I also need Long, Temperature, Humidity, Cloudiness, and Windspeed, country, and time so i need to make empty lists for them\n",
    "city_lst = []\n",
    "lat_lst = []\n",
    "lon_lst = []\n",
    "temp_lst = []\n",
    "hum_lst = []\n",
    "cc_lst = []\n",
    "ws_lst = []\n",
    "con_lst = []\n",
    "date_lst = []\n",
    "\n",
    "#Next I am going to loop through all the cities in my originalk list, but not all of them will have data, and will return and error\n",
    "#To solve this I will make a new list of cities that only gets populated if there is data\n",
    "for city in cities:\n",
    "    response = requests.get(query_url + city).json()\n",
    "    try:\n",
    "        lat_lst.append(response['coord']['lat'])\n",
    "        lon_lst.append(response['coord']['lon'])\n",
    "        temp_lst.append(response['main']['temp'])\n",
    "        hum_lst.append(response['main']['humidity'])\n",
    "        cc_lst.append(response['clouds']['all'])\n",
    "        ws_lst.append(response['wind']['speed'])\n",
    "        con_lst.append(response['sys']['country']) \n",
    "        date_lst.append(response['dt']) \n",
    "        city_lst.append(city)\n",
    "    except KeyError:\n",
    "        print(f\"{city} was not found\")"
   ]
  },
  {
   "cell_type": "code",
   "execution_count": 15,
   "metadata": {},
   "outputs": [
    {
     "data": {
      "text/html": [
       "<div>\n",
       "<style scoped>\n",
       "    .dataframe tbody tr th:only-of-type {\n",
       "        vertical-align: middle;\n",
       "    }\n",
       "\n",
       "    .dataframe tbody tr th {\n",
       "        vertical-align: top;\n",
       "    }\n",
       "\n",
       "    .dataframe thead th {\n",
       "        text-align: right;\n",
       "    }\n",
       "</style>\n",
       "<table border=\"1\" class=\"dataframe\">\n",
       "  <thead>\n",
       "    <tr style=\"text-align: right;\">\n",
       "      <th></th>\n",
       "      <th>city</th>\n",
       "      <th>lat</th>\n",
       "      <th>lon</th>\n",
       "      <th>temp</th>\n",
       "      <th>humidity</th>\n",
       "      <th>cloud_cover</th>\n",
       "      <th>wind_speed</th>\n",
       "      <th>country</th>\n",
       "      <th>date</th>\n",
       "    </tr>\n",
       "  </thead>\n",
       "  <tbody>\n",
       "    <tr>\n",
       "      <th>0</th>\n",
       "      <td>barrow</td>\n",
       "      <td>71.29</td>\n",
       "      <td>-156.79</td>\n",
       "      <td>14.00</td>\n",
       "      <td>78</td>\n",
       "      <td>1</td>\n",
       "      <td>11.41</td>\n",
       "      <td>US</td>\n",
       "      <td>1588714222</td>\n",
       "    </tr>\n",
       "    <tr>\n",
       "      <th>1</th>\n",
       "      <td>vaini</td>\n",
       "      <td>-21.20</td>\n",
       "      <td>-175.20</td>\n",
       "      <td>78.80</td>\n",
       "      <td>83</td>\n",
       "      <td>75</td>\n",
       "      <td>6.93</td>\n",
       "      <td>TO</td>\n",
       "      <td>1588714222</td>\n",
       "    </tr>\n",
       "    <tr>\n",
       "      <th>2</th>\n",
       "      <td>yanam</td>\n",
       "      <td>16.73</td>\n",
       "      <td>82.22</td>\n",
       "      <td>80.37</td>\n",
       "      <td>92</td>\n",
       "      <td>13</td>\n",
       "      <td>1.92</td>\n",
       "      <td>IN</td>\n",
       "      <td>1588714222</td>\n",
       "    </tr>\n",
       "    <tr>\n",
       "      <th>3</th>\n",
       "      <td>esperance</td>\n",
       "      <td>-33.87</td>\n",
       "      <td>121.90</td>\n",
       "      <td>57.20</td>\n",
       "      <td>58</td>\n",
       "      <td>90</td>\n",
       "      <td>33.33</td>\n",
       "      <td>AU</td>\n",
       "      <td>1588714222</td>\n",
       "    </tr>\n",
       "    <tr>\n",
       "      <th>4</th>\n",
       "      <td>qaanaaq</td>\n",
       "      <td>77.48</td>\n",
       "      <td>-69.36</td>\n",
       "      <td>17.91</td>\n",
       "      <td>88</td>\n",
       "      <td>98</td>\n",
       "      <td>5.57</td>\n",
       "      <td>GL</td>\n",
       "      <td>1588714192</td>\n",
       "    </tr>\n",
       "  </tbody>\n",
       "</table>\n",
       "</div>"
      ],
      "text/plain": [
       "        city    lat     lon   temp  humidity  cloud_cover  wind_speed country  \\\n",
       "0     barrow  71.29 -156.79  14.00        78            1       11.41      US   \n",
       "1      vaini -21.20 -175.20  78.80        83           75        6.93      TO   \n",
       "2      yanam  16.73   82.22  80.37        92           13        1.92      IN   \n",
       "3  esperance -33.87  121.90  57.20        58           90       33.33      AU   \n",
       "4    qaanaaq  77.48  -69.36  17.91        88           98        5.57      GL   \n",
       "\n",
       "         date  \n",
       "0  1588714222  \n",
       "1  1588714222  \n",
       "2  1588714222  \n",
       "3  1588714222  \n",
       "4  1588714192  "
      ]
     },
     "execution_count": 15,
     "metadata": {},
     "output_type": "execute_result"
    }
   ],
   "source": [
    "#Now That I haqve the lists I can add them to a dataframe, first I need a dictionary\n",
    "weather_dict = {\n",
    "    'city': city_lst,\n",
    "    'lat' : lat_lst,\n",
    "    'lon' : lon_lst,\n",
    "    'temp': temp_lst,\n",
    "    'humidity' : hum_lst,\n",
    "    'cloud_cover' : cc_lst,\n",
    "    'wind_speed' : ws_lst,\n",
    "    'country' : con_lst,\n",
    "    'date' : date_lst\n",
    "}\n",
    "\n",
    "#Then to make the dataframe\n",
    "weather_data = pd.DataFrame(weather_dict)\n",
    "\n",
    "#\n",
    "weather_data.head()"
   ]
  },
  {
   "cell_type": "code",
   "execution_count": 17,
   "metadata": {},
   "outputs": [
    {
     "data": {
      "text/html": [
       "<div>\n",
       "<style scoped>\n",
       "    .dataframe tbody tr th:only-of-type {\n",
       "        vertical-align: middle;\n",
       "    }\n",
       "\n",
       "    .dataframe tbody tr th {\n",
       "        vertical-align: top;\n",
       "    }\n",
       "\n",
       "    .dataframe thead th {\n",
       "        text-align: right;\n",
       "    }\n",
       "</style>\n",
       "<table border=\"1\" class=\"dataframe\">\n",
       "  <thead>\n",
       "    <tr style=\"text-align: right;\">\n",
       "      <th></th>\n",
       "      <th>lat</th>\n",
       "      <th>lon</th>\n",
       "      <th>temp</th>\n",
       "      <th>humidity</th>\n",
       "      <th>cloud_cover</th>\n",
       "      <th>wind_speed</th>\n",
       "      <th>date</th>\n",
       "    </tr>\n",
       "  </thead>\n",
       "  <tbody>\n",
       "    <tr>\n",
       "      <th>count</th>\n",
       "      <td>566.000000</td>\n",
       "      <td>566.000000</td>\n",
       "      <td>566.000000</td>\n",
       "      <td>566.000000</td>\n",
       "      <td>566.000000</td>\n",
       "      <td>566.000000</td>\n",
       "      <td>5.660000e+02</td>\n",
       "    </tr>\n",
       "    <tr>\n",
       "      <th>mean</th>\n",
       "      <td>20.279912</td>\n",
       "      <td>18.776307</td>\n",
       "      <td>62.198799</td>\n",
       "      <td>69.906360</td>\n",
       "      <td>49.772085</td>\n",
       "      <td>8.364735</td>\n",
       "      <td>1.588714e+09</td>\n",
       "    </tr>\n",
       "    <tr>\n",
       "      <th>std</th>\n",
       "      <td>32.761958</td>\n",
       "      <td>90.183979</td>\n",
       "      <td>18.896526</td>\n",
       "      <td>22.352685</td>\n",
       "      <td>38.342786</td>\n",
       "      <td>6.650517</td>\n",
       "      <td>1.272606e+02</td>\n",
       "    </tr>\n",
       "    <tr>\n",
       "      <th>min</th>\n",
       "      <td>-54.800000</td>\n",
       "      <td>-179.170000</td>\n",
       "      <td>-2.830000</td>\n",
       "      <td>1.000000</td>\n",
       "      <td>0.000000</td>\n",
       "      <td>0.160000</td>\n",
       "      <td>1.588714e+09</td>\n",
       "    </tr>\n",
       "    <tr>\n",
       "      <th>25%</th>\n",
       "      <td>-6.007500</td>\n",
       "      <td>-61.372500</td>\n",
       "      <td>49.457500</td>\n",
       "      <td>57.250000</td>\n",
       "      <td>10.000000</td>\n",
       "      <td>4.000000</td>\n",
       "      <td>1.588714e+09</td>\n",
       "    </tr>\n",
       "    <tr>\n",
       "      <th>50%</th>\n",
       "      <td>25.425000</td>\n",
       "      <td>22.725000</td>\n",
       "      <td>63.525000</td>\n",
       "      <td>76.000000</td>\n",
       "      <td>45.500000</td>\n",
       "      <td>6.930000</td>\n",
       "      <td>1.588714e+09</td>\n",
       "    </tr>\n",
       "    <tr>\n",
       "      <th>75%</th>\n",
       "      <td>46.572500</td>\n",
       "      <td>99.772500</td>\n",
       "      <td>78.637500</td>\n",
       "      <td>87.000000</td>\n",
       "      <td>90.000000</td>\n",
       "      <td>10.810000</td>\n",
       "      <td>1.588714e+09</td>\n",
       "    </tr>\n",
       "    <tr>\n",
       "      <th>max</th>\n",
       "      <td>78.220000</td>\n",
       "      <td>179.320000</td>\n",
       "      <td>100.870000</td>\n",
       "      <td>100.000000</td>\n",
       "      <td>100.000000</td>\n",
       "      <td>61.070000</td>\n",
       "      <td>1.588715e+09</td>\n",
       "    </tr>\n",
       "  </tbody>\n",
       "</table>\n",
       "</div>"
      ],
      "text/plain": [
       "              lat         lon        temp    humidity  cloud_cover  \\\n",
       "count  566.000000  566.000000  566.000000  566.000000   566.000000   \n",
       "mean    20.279912   18.776307   62.198799   69.906360    49.772085   \n",
       "std     32.761958   90.183979   18.896526   22.352685    38.342786   \n",
       "min    -54.800000 -179.170000   -2.830000    1.000000     0.000000   \n",
       "25%     -6.007500  -61.372500   49.457500   57.250000    10.000000   \n",
       "50%     25.425000   22.725000   63.525000   76.000000    45.500000   \n",
       "75%     46.572500   99.772500   78.637500   87.000000    90.000000   \n",
       "max     78.220000  179.320000  100.870000  100.000000   100.000000   \n",
       "\n",
       "       wind_speed          date  \n",
       "count  566.000000  5.660000e+02  \n",
       "mean     8.364735  1.588714e+09  \n",
       "std      6.650517  1.272606e+02  \n",
       "min      0.160000  1.588714e+09  \n",
       "25%      4.000000  1.588714e+09  \n",
       "50%      6.930000  1.588714e+09  \n",
       "75%     10.810000  1.588714e+09  \n",
       "max     61.070000  1.588715e+09  "
      ]
     },
     "execution_count": 17,
     "metadata": {},
     "output_type": "execute_result"
    }
   ],
   "source": [
    "weather_data.describe()"
   ]
  },
  {
   "cell_type": "code",
   "execution_count": 24,
   "metadata": {},
   "outputs": [],
   "source": [
    "#I need to split the dataframe into 2 hemisphers\n",
    "north_df = weather_data[weather_data['lat']>=0]\n",
    "south_df = weather_data[weather_data['lat']<0]"
   ]
  },
  {
   "cell_type": "code",
   "execution_count": 54,
   "metadata": {},
   "outputs": [],
   "source": [
    "#Now to make graphs I am going to create a function\n",
    "def make_me_a_graph(x,y,dataframe,regress=False):\n",
    "    x_axis = dataframe[x]\n",
    "    y_axis = dataframe[y]\n",
    "    \n",
    "    fig, (ax1) = plt.subplots(1,1,figsize=(10,10))\n",
    "    ax1.scatter(x_axis,y_axis)\n",
    "    ax1.set(xlabel=x,ylabel=y,title=f\"{y} vs {x}\")\n",
    "    ax1.grid(linestyle = '-.')\n",
    "    \n",
    "    if regress == True:\n",
    "        slope, intercept, r_value, p_value, std_err = st.linregress(x_axis,y_axis)\n",
    "        ax1.plot(x_axis, slope*x_axis + intercept, color = 'r', label=f\"R-value = {r_value}\")\n",
    "        ax1.legend(loc='best')"
   ]
  },
  {
   "cell_type": "code",
   "execution_count": 35,
   "metadata": {},
   "outputs": [],
   "source": [
    "#make_me_a_graph(\"lat\",\"temp\",weather_data)\n",
    "#The first thing i notice is there are more points the more positive the latitude, which makes sense\n",
    "#More of the land mass in is the northern hemisphere. \n",
    "#Second, the temperature does appear to be latitude dependent but hits its peak around 20.\n",
    "#This is probably a result of the oceanic currents along with the fact that is is spring time in the north, fall in the south"
   ]
  },
  {
   "cell_type": "code",
   "execution_count": 37,
   "metadata": {},
   "outputs": [],
   "source": [
    "#make_me_a_graph(\"lat\",\"humidity\",weather_data)\n",
    "#Humidity appears to spike downward between +/- 20-40"
   ]
  },
  {
   "cell_type": "code",
   "execution_count": 39,
   "metadata": {},
   "outputs": [],
   "source": [
    "#make_me_a_graph(\"lat\",\"cloud_cover\",weather_data)\n",
    "#There does not appear to be much of a correlation between cloudcover and latitude\n",
    "#However, there are congrgations around 100, 90, 75, 40, 20, and 0. \n",
    "#This leads me to think that some fo the data collection is some person making a guestimate. "
   ]
  },
  {
   "cell_type": "code",
   "execution_count": 41,
   "metadata": {},
   "outputs": [],
   "source": [
    "#make_me_a_graph(\"lat\",\"wind_speed\",weather_data)\n",
    "#There are a few outliers in this group that seem safe to ignore\n",
    "#There is a slight correlation between higher windspeeds further from the equator. "
   ]
  },
  {
   "cell_type": "code",
   "execution_count": 57,
   "metadata": {},
   "outputs": [],
   "source": [
    "#make_me_a_graph(\"lat\",\"temp\",north_df,regress=True)"
   ]
  },
  {
   "cell_type": "code",
   "execution_count": 58,
   "metadata": {},
   "outputs": [],
   "source": [
    "#make_me_a_graph(\"lat\",\"humidity\",north_df,regress=True)"
   ]
  },
  {
   "cell_type": "code",
   "execution_count": 65,
   "metadata": {},
   "outputs": [],
   "source": [
    "#make_me_a_graph(\"lat\",\"cloud_cover\",north_df,regress=True)"
   ]
  },
  {
   "cell_type": "code",
   "execution_count": 66,
   "metadata": {},
   "outputs": [
    {
     "data": {
      "image/png": "[encoded data removed]",
      "text/plain": [
       "<Figure size 720x720 with 1 Axes>"
      ]
     },
     "metadata": {
      "needs_background": "light"
     },
     "output_type": "display_data"
    }
   ],
   "source": [
    "#make_me_a_graph(\"lat\",\"wind_speed\",north_df,regress=True)"
   ]
  },
  {
   "cell_type": "code",
   "execution_count": 61,
   "metadata": {},
   "outputs": [],
   "source": [
    "#make_me_a_graph(\"lat\",\"temp\",south_df,regress=True)"
   ]
  },
  {
   "cell_type": "code",
   "execution_count": 62,
   "metadata": {},
   "outputs": [],
   "source": [
    "#make_me_a_graph(\"lat\",\"humidity\",south_df,regress=True)"
   ]
  },
  {
   "cell_type": "code",
   "execution_count": 63,
   "metadata": {},
   "outputs": [],
   "source": [
    "#make_me_a_graph(\"lat\",\"cloud_cover\",south_df,regress=True)"
   ]
  },
  {
   "cell_type": "code",
   "execution_count": null,
   "metadata": {},
   "outputs": [],
   "source": [
    "#make_me_a_graph(\"lat\",\"wind_speed\",south_df,regress=True)"
   ]
  }
 ],
 "metadata": {
  "kernelspec": {
   "display_name": "Python 3",
   "language": "python",
   "name": "python3"
  },
  "language_info": {
   "codemirror_mode": {
    "name": "ipython",
    "version": 3
   },
   "file_extension": ".py",
   "mimetype": "text/x-python",
   "name": "python",
   "nbconvert_exporter": "python",
   "pygments_lexer": "ipython3",
   "version": "3.7.3"
  }
 },
 "nbformat": 4,
 "nbformat_minor": 4
}
