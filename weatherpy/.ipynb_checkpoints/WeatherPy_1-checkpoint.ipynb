{
 "cells": [
  {
   "cell_type": "code",
   "execution_count": 1,
   "metadata": {},
   "outputs": [],
   "source": [
    "# Dependencies and Setup\n",
    "import matplotlib.pyplot as plt\n",
    "import pandas as pd\n",
    "import numpy as np\n",
    "import pprint\n",
    "import requests\n",
    "import time\n",
    "import json\n",
    "from scipy.stats import linregress\n",
    "\n",
    "# Incorporated citipy to determine city based on latitude and longitude\n",
    "from citipy import citipy"
   ]
  },
  {
   "cell_type": "code",
   "execution_count": 2,
   "metadata": {},
   "outputs": [],
   "source": [
    "# Import API key\n",
    "from api_keys import weather_api_key"
   ]
  },
  {
   "cell_type": "code",
   "execution_count": 3,
   "metadata": {},
   "outputs": [],
   "source": [
    "# Output File (CSV)\n",
    "output_data_file = \"output_data/cities.csv\""
   ]
  },
  {
   "cell_type": "code",
   "execution_count": 4,
   "metadata": {},
   "outputs": [],
   "source": [
    "# Range of latitudes and longitudes\n",
    "lat_range = (-90, 90)\n",
    "lng_range = (-180, 180)"
   ]
  },
  {
   "cell_type": "code",
   "execution_count": 5,
   "metadata": {},
   "outputs": [
    {
     "data": {
      "text/plain": [
       "632"
      ]
     },
     "execution_count": 5,
     "metadata": {},
     "output_type": "execute_result"
    }
   ],
   "source": [
    "# List for holding lat_lngs and cities\n",
    "lat_lngs = []\n",
    "cities = []\n",
    "\n",
    "# Create a set of random lat and lng combinations\n",
    "lats = np.random.uniform(lat_range[0], lat_range[1], size=1500)\n",
    "lngs = np.random.uniform(lng_range[0], lng_range[1], size=1500)\n",
    "lat_lngs = zip(lats, lngs)\n",
    "\n",
    "# Identify nearest city for each lat, lng combination\n",
    "for lat_lng in lat_lngs:\n",
    "    city = citipy.nearest_city(lat_lng[0], lat_lng[1]).city_name\n",
    "    \n",
    "    # If the city is unique, then add it to a our cities list\n",
    "    if city not in cities:\n",
    "        cities.append(city)\n",
    "\n",
    "# Print the city count to confirm sufficient count\n",
    "len(cities)"
   ]
  },
  {
   "cell_type": "code",
   "execution_count": 6,
   "metadata": {},
   "outputs": [],
   "source": [
    "# Save config information.\n",
    "url = \"http://api.openweathermap.org/data/2.5/weather?\"\n",
    "units = \"Imperial\"\n",
    "\n",
    "# Build partial query URL\n",
    "query_url = f\"{url}appid={weather_api_key}&units={units}&q=\""
   ]
  },
  {
   "cell_type": "code",
   "execution_count": 11,
   "metadata": {},
   "outputs": [
    {
     "name": "stdout",
     "output_type": "stream",
     "text": [
      "{'coord': {'lon': -99.23, 'lat': 25.7}, 'weather': [{'id': 802, 'main': 'Clouds', 'description': 'scattered clouds', 'icon': '03d'}], 'base': 'stations', 'main': {'temp': 97.18, 'feels_like': 90.12, 'temp_min': 97.18, 'temp_max': 97.18, 'pressure': 1007, 'humidity': 27, 'sea_level': 1007, 'grnd_level': 991}, 'wind': {'speed': 16.8, 'deg': 125}, 'clouds': {'all': 46}, 'dt': 1588633504, 'sys': {'country': 'MX', 'sunrise': 1588593457, 'sunset': 1588640975}, 'timezone': -18000, 'id': 3530839, 'name': 'China', 'cod': 200}\n"
     ]
    }
   ],
   "source": [
    "view = requests.get(query_url + \"china\").json()\n",
    "print(view)\n",
    "#print(json.dumps(view,indent=4, sort_keys=True))"
   ]
  },
  {
   "cell_type": "code",
   "execution_count": 15,
   "metadata": {},
   "outputs": [
    {
     "name": "stdout",
     "output_type": "stream",
     "text": [
      "mys shmidta was not found\n",
      "nizhneyansk was not found\n",
      "manzil tamim was not found\n",
      "belushya guba was not found\n",
      "ust-kamchatsk was not found\n",
      "taolanaro was not found\n",
      "grand river south east was not found\n",
      "palaiokhora was not found\n",
      "tsihombe was not found\n",
      "warqla was not found\n",
      "umm durman was not found\n",
      "vilaka was not found\n",
      "samusu was not found\n",
      "umzimvubu was not found\n",
      "amderma was not found\n",
      "lolua was not found\n",
      "illoqqortoormiut was not found\n",
      "kapustin yar-1 was not found\n",
      "attawapiskat was not found\n",
      "acuna was not found\n",
      "barentsburg was not found\n",
      "saleaula was not found\n",
      "sentyabrskiy was not found\n",
      "koboldo was not found\n",
      "hihifo was not found\n",
      "tabiauea was not found\n",
      "sataua was not found\n",
      "tubruq was not found\n",
      "kopyevo was not found\n",
      "mutsamudu was not found\n",
      "bur gabo was not found\n",
      "kytlym was not found\n",
      "marcona was not found\n",
      "temaraia was not found\n",
      "dekoa was not found\n",
      "solovetskiy was not found\n",
      "uwayl was not found\n",
      "el balyana was not found\n",
      "samalaeulu was not found\n",
      "zhemchuzhnyy was not found\n",
      "mahaicony was not found\n",
      "burica was not found\n",
      "vaitupu was not found\n",
      "palabuhanratu was not found\n",
      "numi was not found\n",
      "crab hill was not found\n",
      "khonuu was not found\n",
      "yomitan was not found\n",
      "papantla was not found\n",
      "gorno-chuyskiy was not found\n",
      "urulga was not found\n",
      "kuche was not found\n",
      "saryshagan was not found\n",
      "artyk was not found\n"
     ]
    }
   ],
   "source": [
    "#So far I have a list of cites and an access to the api. I'm not sure if I have lat stored but i can easily collect it\n",
    "#I also need Temperature, Humidity, Cloudiness, and Windspeed so i need to make empty lists for them\n",
    "city_lst = []\n",
    "lat_lst = []\n",
    "temp_lst = []\n",
    "hum_lst = []\n",
    "cc_lst = []\n",
    "ws_lst = []\n",
    "\n",
    "#Next I am going to loop through all the cities in my originalk list, but not all of them will have data, and will return and error\n",
    "#To solve this I will make a new list of cities that only gets populated if there is data\n",
    "for city in cities:\n",
    "    response = requests.get(query_url + city).json()\n",
    "    try:\n",
    "        lat_lst.append(response['coord']['lat'])\n",
    "        temp_lst.append(response['main']['temp'])\n",
    "        hum_lst.append(response['main']['humidity'])\n",
    "        cc_lst.append(response['clouds']['all'])\n",
    "        ws_lst.append(response['wind']['speed']) \n",
    "        city_lst.append(city)\n",
    "    except KeyError:\n",
    "        print(f\"{city} was not found\")"
   ]
  },
  {
   "cell_type": "code",
   "execution_count": 14,
   "metadata": {},
   "outputs": [],
   "source": []
  },
  {
   "cell_type": "code",
   "execution_count": null,
   "metadata": {},
   "outputs": [],
   "source": []
  }
 ],
 "metadata": {
  "kernelspec": {
   "display_name": "Python 3",
   "language": "python",
   "name": "python3"
  },
  "language_info": {
   "codemirror_mode": {
    "name": "ipython",
    "version": 3
   },
   "file_extension": ".py",
   "mimetype": "text/x-python",
   "name": "python",
   "nbconvert_exporter": "python",
   "pygments_lexer": "ipython3",
   "version": "3.7.3"
  }
 },
 "nbformat": 4,
 "nbformat_minor": 4
}
