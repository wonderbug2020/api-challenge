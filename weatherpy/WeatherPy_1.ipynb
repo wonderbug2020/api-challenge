{
 "cells": [
  {
   "cell_type": "code",
   "execution_count": null,
   "metadata": {},
   "outputs": [],
   "source": [
    "# Dependencies and Setup\n",
    "import matplotlib.pyplot as plt\n",
    "import pandas as pd\n",
    "import numpy as np\n",
    "import pprint\n",
    "import requests\n",
    "import time\n",
    "import json\n",
    "from scipy.stats import linregress\n",
    "import scipy.stats as st\n",
    "\n",
    "# Incorporated citipy to determine city based on latitude and longitude\n",
    "from citipy import citipy"
   ]
  },
  {
   "cell_type": "code",
   "execution_count": null,
   "metadata": {},
   "outputs": [],
   "source": [
    "# Import API key\n",
    "from api_keys import weather_api_key"
   ]
  },
  {
   "cell_type": "code",
   "execution_count": null,
   "metadata": {},
   "outputs": [],
   "source": [
    "# Output File (CSV)\n",
    "output_data_file = \"output_data/cities.csv\""
   ]
  },
  {
   "cell_type": "code",
   "execution_count": null,
   "metadata": {},
   "outputs": [],
   "source": [
    "# Range of latitudes and longitudes\n",
    "lat_range = (-90, 90)\n",
    "lng_range = (-180, 180)"
   ]
  },
  {
   "cell_type": "code",
   "execution_count": null,
   "metadata": {},
   "outputs": [],
   "source": [
    "# List for holding lat_lngs and cities\n",
    "lat_lngs = []\n",
    "cities = []\n",
    "\n",
    "# Create a set of random lat and lng combinations\n",
    "lats = np.random.uniform(lat_range[0], lat_range[1], size=1500)\n",
    "lngs = np.random.uniform(lng_range[0], lng_range[1], size=1500)\n",
    "lat_lngs = zip(lats, lngs)\n",
    "\n",
    "# Identify nearest city for each lat, lng combination\n",
    "for lat_lng in lat_lngs:\n",
    "    city = citipy.nearest_city(lat_lng[0], lat_lng[1]).city_name\n",
    "    \n",
    "    # If the city is unique, then add it to a our cities list\n",
    "    if city not in cities:\n",
    "        cities.append(city)\n",
    "\n",
    "# Print the city count to confirm sufficient count\n",
    "len(cities)"
   ]
  },
  {
   "cell_type": "code",
   "execution_count": null,
   "metadata": {},
   "outputs": [],
   "source": [
    "# Save config information.\n",
    "url = \"http://api.openweathermap.org/data/2.5/weather?\"\n",
    "units = \"Imperial\"\n",
    "\n",
    "# Build partial query URL\n",
    "query_url = f\"{url}appid={weather_api_key}&units={units}&q=\""
   ]
  },
  {
   "cell_type": "code",
   "execution_count": null,
   "metadata": {},
   "outputs": [],
   "source": [
    "view = requests.get(query_url + \"china\").json()\n",
    "print(view)\n",
    "#print(json.dumps(view,indent=4, sort_keys=True))"
   ]
  },
  {
   "cell_type": "code",
   "execution_count": null,
   "metadata": {
    "scrolled": true
   },
   "outputs": [],
   "source": [
    "#So far I have a list of cites and an access to the api. I'm not sure if I have lat stored but i can easily collect it\n",
    "#I also need Long, Temperature, Humidity, Cloudiness, and Windspeed, country, and time so i need to make empty lists for them\n",
    "city_lst = []\n",
    "lat_lst = []\n",
    "lon_lst = []\n",
    "temp_lst = []\n",
    "hum_lst = []\n",
    "cc_lst = []\n",
    "ws_lst = []\n",
    "con_lst = []\n",
    "date_lst = []\n",
    "count = 1\n",
    "\n",
    "#Next I am going to loop through all the cities in my originalk list, but not all of them will have data, and will return and error\n",
    "#To solve this I will make a new list of cities that only gets populated if there is data\n",
    "for city in cities:\n",
    "    response = requests.get(query_url + city).json()\n",
    "    try:\n",
    "        lat_lst.append(response['coord']['lat'])\n",
    "        lon_lst.append(response['coord']['lon'])\n",
    "        temp_lst.append(response['main']['temp'])\n",
    "        hum_lst.append(response['main']['humidity'])\n",
    "        cc_lst.append(response['clouds']['all'])\n",
    "        ws_lst.append(response['wind']['speed'])\n",
    "        con_lst.append(response['sys']['country']) \n",
    "        date_lst.append(response['dt']) \n",
    "        city_lst.append(city)\n",
    "        print(f\"{city}, #{count} of {len(cities)} has data and it has been added to the data base\")\n",
    "    except KeyError:\n",
    "        print(f\"{city}, #{count} of {len(cities)} was not found. Skipping\")\n",
    "    count +=1"
   ]
  },
  {
   "cell_type": "code",
   "execution_count": null,
   "metadata": {},
   "outputs": [],
   "source": [
    "#Now That I haqve the lists I can add them to a dataframe, first I need a dictionary\n",
    "weather_dict = {\n",
    "    'city': city_lst,\n",
    "    'lat' : lat_lst,\n",
    "    'lon' : lon_lst,\n",
    "    'temp': temp_lst,\n",
    "    'humidity' : hum_lst,\n",
    "    'cloud_cover' : cc_lst,\n",
    "    'wind_speed' : ws_lst,\n",
    "    'country' : con_lst,\n",
    "    'date' : date_lst\n",
    "}\n",
    "\n",
    "#Then to make the dataframe\n",
    "weather_data = pd.DataFrame(weather_dict)\n",
    "\n",
    "#to view the top rows, making sure everything is fine\n",
    "weather_data.head()"
   ]
  },
  {
   "cell_type": "code",
   "execution_count": null,
   "metadata": {},
   "outputs": [],
   "source": [
    "#Saving the dataframe as a csv\n",
    "weather_data.to_csv('weather_data.csv')"
   ]
  },
  {
   "cell_type": "code",
   "execution_count": null,
   "metadata": {},
   "outputs": [],
   "source": [
    "weather_data.describe()"
   ]
  },
  {
   "cell_type": "code",
   "execution_count": null,
   "metadata": {},
   "outputs": [],
   "source": [
    "#I need to split the dataframe into 2 hemisphers\n",
    "north_df = weather_data[weather_data['lat']>=0]\n",
    "south_df = weather_data[weather_data['lat']<0]"
   ]
  },
  {
   "cell_type": "code",
   "execution_count": null,
   "metadata": {},
   "outputs": [],
   "source": [
    "#Now to make graphs I am going to create a function\n",
    "def make_me_a_graph(x,y,dataframe,head_title,regress=False):\n",
    "    #First i need to take the strings that are passed to create variables based on those columns\n",
    "    x_axis = dataframe[x]\n",
    "    y_axis = dataframe[y]\n",
    "    \n",
    "    #Next to make the basic scatter plot with proper labels and a grid background\n",
    "    fig, (ax1) = plt.subplots(1,1,figsize=(10,10))\n",
    "    ax1.scatter(x_axis,y_axis)\n",
    "    ax1.set(xlabel=x,ylabel=y,title=head_title)\n",
    "    ax1.grid(linestyle = '-.')\n",
    "    \n",
    "    #Using a conditional i can add a regression line. Probably could have put this into another function and called it but w/e\n",
    "    if regress == True:\n",
    "        slope, intercept, r_value, p_value, std_err = st.linregress(x_axis,y_axis)\n",
    "        nl = '\\n'\n",
    "        eq = f\"y={round(slope,2)}*x + {round(intercept,2)}\"\n",
    "        ax1.plot(x_axis, slope*x_axis + intercept, color = 'r', label=f\"R-value = {r_value}{nl} {eq}\")\n",
    "        ax1.legend(loc='best')\n",
    "    \n",
    "    #Finally I want to save the fig file as the title i pass\n",
    "    fig.savefig(f\"images/{head_title}.png\")"
   ]
  },
  {
   "cell_type": "code",
   "execution_count": null,
   "metadata": {},
   "outputs": [],
   "source": [
    "make_me_a_graph(\"lat\",\"temp\",weather_data,\"Temperature (F) vs. Latitude\")\n",
    "#The first thing i notice is there are more points the more positive the latitude, which makes sense\n",
    "#More of the land mass in is the northern hemisphere. \n",
    "#Second, the temperature does appear to be latitude dependent but hits its peak around 20.\n",
    "#This is probably a result of the oceanic currents along with the fact that is is spring time in the north, fall in the south"
   ]
  },
  {
   "cell_type": "code",
   "execution_count": null,
   "metadata": {},
   "outputs": [],
   "source": [
    "make_me_a_graph(\"lat\",\"humidity\",weather_data,\"Humidity (%) vs. Latitude\")\n",
    "#Humidity appears to spike downward between +/- 20-40"
   ]
  },
  {
   "cell_type": "code",
   "execution_count": null,
   "metadata": {},
   "outputs": [],
   "source": [
    "make_me_a_graph(\"lat\",\"cloud_cover\",weather_data,\"Cloudiness (%) vs. Latitude\")\n",
    "#There does not appear to be much of a correlation between cloudcover and latitude\n",
    "#However, there are congrgations around 100, 90, 75, 40, 20, and 0. \n",
    "#This leads me to think that some fo the data collection is some person making a guestimate. "
   ]
  },
  {
   "cell_type": "code",
   "execution_count": null,
   "metadata": {},
   "outputs": [],
   "source": [
    "make_me_a_graph(\"lat\",\"wind_speed\",weather_data,\"Wind Speed (mph) vs. Latitude\")\n",
    "#There are a few outliers in this group that seem safe to ignore\n",
    "#There is a slight correlation between higher windspeeds further from the equator. "
   ]
  },
  {
   "cell_type": "code",
   "execution_count": null,
   "metadata": {},
   "outputs": [],
   "source": [
    "make_me_a_graph(\"lat\",\"temp\",north_df,\"Northern Hemisphere - Temperature (F) vs. Latitude\",regress=True)\n",
    "#There is certainly a decent amout of correlation based on an r value\n",
    "#as expected, the further from the equator we get, the cooler the temperatures"
   ]
  },
  {
   "cell_type": "code",
   "execution_count": null,
   "metadata": {},
   "outputs": [],
   "source": [
    "make_me_a_graph(\"lat\",\"humidity\",north_df,\"Northern Hemisphere - Humidity (%) vs. Latitude\",regress=True)\n",
    "#The R value supports the claim that there is very little correcation between humidity and latitude\n",
    "#It should be noted that the areas of lowest humidity are between 20 and 40"
   ]
  },
  {
   "cell_type": "code",
   "execution_count": null,
   "metadata": {},
   "outputs": [],
   "source": [
    "make_me_a_graph(\"lat\",\"cloud_cover\",north_df,\"Northern Hemisphere - Cloudiness (%) vs. Latitude\",regress=True)\n",
    "#There is basically 0 correlation between cloud cover and latitude"
   ]
  },
  {
   "cell_type": "code",
   "execution_count": null,
   "metadata": {},
   "outputs": [],
   "source": [
    "make_me_a_graph(\"lat\",\"wind_speed\",north_df,\"Northern Hemisphere - Wind Speed (mph) vs. Latitude\",regress=True)\n",
    "#There is basically 0 correlation between windspeed and latitude"
   ]
  },
  {
   "cell_type": "code",
   "execution_count": null,
   "metadata": {},
   "outputs": [],
   "source": [
    "make_me_a_graph(\"lat\",\"temp\",south_df,\"Southern Hemisphere - Temperature (F) vs. Latitude\",regress=True)\n",
    "#There is certainly a decent amout of correlation based on the r value.\n",
    "#as expected, the further from the equator we get, the cooler the temperatures"
   ]
  },
  {
   "cell_type": "code",
   "execution_count": null,
   "metadata": {},
   "outputs": [],
   "source": [
    "make_me_a_graph(\"lat\",\"humidity\",south_df,\"Southern Hemisphere - Humidity (%) vs. Latitude\",regress=True)\n",
    "#The R value supports the claim that there is very little correcation between humidity and latitude\n",
    "#It should be noted that the areas of lowest humidity are between -20 and -40"
   ]
  },
  {
   "cell_type": "code",
   "execution_count": null,
   "metadata": {},
   "outputs": [],
   "source": [
    "make_me_a_graph(\"lat\",\"cloud_cover\",south_df,\"Southern Hemisphere - Cloudiness (%) vs. Latitude\",regress=True)\n",
    "#There is basically 0 correlation between cloud cover and latitude"
   ]
  },
  {
   "cell_type": "code",
   "execution_count": null,
   "metadata": {},
   "outputs": [],
   "source": [
    "make_me_a_graph(\"lat\",\"wind_speed\",south_df,\"Southern Hemisphere - Wind Speed (mph) vs. Latitude\",regress=True)\n",
    "#There is basically 0 correlation between cloud cover and latitude"
   ]
  }
 ],
 "metadata": {
  "kernelspec": {
   "display_name": "Python 3",
   "language": "python",
   "name": "python3"
  },
  "language_info": {
   "codemirror_mode": {
    "name": "ipython",
    "version": 3
   },
   "file_extension": ".py",
   "mimetype": "text/x-python",
   "name": "python",
   "nbconvert_exporter": "python",
   "pygments_lexer": "ipython3",
   "version": "3.7.3"
  }
 },
 "nbformat": 4,
 "nbformat_minor": 4
}
