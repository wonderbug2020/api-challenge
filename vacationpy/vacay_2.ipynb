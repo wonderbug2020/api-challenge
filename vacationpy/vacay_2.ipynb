{
 "cells": [
  {
   "cell_type": "code",
   "execution_count": null,
   "metadata": {},
   "outputs": [],
   "source": [
    "# Dependencies and Setup\n",
    "import matplotlib.pyplot as plt\n",
    "import pandas as pd\n",
    "import numpy as np\n",
    "import requests\n",
    "import gmaps\n",
    "import os\n",
    "import json\n",
    "\n",
    "# Import API key\n",
    "from api_keys import g_key"
   ]
  },
  {
   "cell_type": "code",
   "execution_count": null,
   "metadata": {},
   "outputs": [],
   "source": [
    "#Create the dataframe\n",
    "weather_data_df = pd.read_csv(\"weather_data.csv\")\n",
    "weather_data_df.head()"
   ]
  },
  {
   "cell_type": "code",
   "execution_count": null,
   "metadata": {},
   "outputs": [],
   "source": [
    "locations = weather_data_df[['lat','lon']]\n",
    "weight = weather_data_df['humidity']\n",
    "\n",
    "m = gmaps.figure()\n",
    "m.add_layer(gmaps.heatmap_layer(locations, weights=weight,dissipating=False,max_intensity=.5,point_radius=10))\n",
    "m"
   ]
  },
  {
   "cell_type": "code",
   "execution_count": null,
   "metadata": {},
   "outputs": [],
   "source": [
    "#We are going to be finding a location spot so we need to make some filters\n",
    "max_temp = weather_data_df['temp'] <= 75\n",
    "min_temp = weather_data_df['temp'] >= 65\n",
    "windspeed = weather_data_df['wind_speed'] <=10\n",
    "cloudiness = weather_data_df['cloud_cover'] <=20\n",
    "hot_wet = weather_data_df['humidity'] <= 50\n",
    "\n",
    "#Now to apply the filters\n",
    "vacay_df = weather_data_df[max_temp & min_temp & windspeed & cloudiness & hot_wet]\n",
    "vacay_df"
   ]
  },
  {
   "cell_type": "code",
   "execution_count": null,
   "metadata": {},
   "outputs": [],
   "source": [
    "#Next we are going to find the closest hotels to the city center\n",
    "\n",
    "# set up a parameters dictionary\n",
    "params = {\n",
    "    \"radius\": 5000,\n",
    "    \"keyword\": \"hotels\",\n",
    "    \"type\": \"hotel\",\n",
    "    \"key\": g_key\n",
    "}\n",
    "\n",
    "for index, row in vacay_df.iterrows():\n",
    "    \n",
    "    #add the values for lat and long\n",
    "    lat = row[\"lat\"]\n",
    "    lng = row[\"lon\"]\n",
    "    params[\"location\"] = f\"{lat},{lng}\"\n",
    "\n",
    "    # base url\n",
    "    base_url = \"https://maps.googleapis.com/maps/api/place/nearbysearch/json\"\n",
    "\n",
    "    # run a request using our params dictionary\n",
    "    response = requests.get(base_url, params=params) \n",
    "    hotel_name = response.json()\n",
    "    print(json.dumps(hotel_name, indent=4, sort_keys=True))\n",
    "    try:\n",
    "        vacay_df.loc[index, \"Hotel Name\"] = hotel_name[\"results\"][0]['name']\n",
    "    except (KeyError,IndexError):\n",
    "        print(\"No hotels within your selected radius, Skipping\")\n",
    "vacay_df"
   ]
  },
  {
   "cell_type": "code",
   "execution_count": null,
   "metadata": {},
   "outputs": [],
   "source": [
    "#Now I am going to make a new df and drop the NA's\n",
    "hotel_df = vacay_df.copy()\n",
    "hotel_df = hotel_df[hotel_df['Hotel Name'].notna()]\n",
    "hotel_df"
   ]
  },
  {
   "cell_type": "code",
   "execution_count": null,
   "metadata": {},
   "outputs": [],
   "source": [
    "# Using the template add the hotel marks to the heatmap\n",
    "info_box_template = \"\"\"\n",
    "<dl>\n",
    "<dt>Name</dt><dd>{Hotel Name}</dd>\n",
    "<dt>City</dt><dd>{city}</dd>\n",
    "<dt>Country</dt><dd>{country}</dd>\n",
    "</dl>\n",
    "\"\"\"\n",
    "# Store the DataFrame Row\n",
    "# NOTE: be sure to update with your DataFrame name\n",
    "hotel_info = [info_box_template.format(**row) for index, row in hotel_df.iterrows()]\n",
    "locations = hotel_df[[\"lat\", \"lon\"]]"
   ]
  },
  {
   "cell_type": "code",
   "execution_count": null,
   "metadata": {},
   "outputs": [],
   "source": [
    "markers = gmaps.marker_layer(locations, info_box_content=hotel_info)\n",
    "m.add_layer(markers)\n",
    "m"
   ]
  },
  {
   "cell_type": "code",
   "execution_count": null,
   "metadata": {},
   "outputs": [],
   "source": []
  }
 ],
 "metadata": {
  "kernelspec": {
   "display_name": "Python 3",
   "language": "python",
   "name": "python3"
  },
  "language_info": {
   "codemirror_mode": {
    "name": "ipython",
    "version": 3
   },
   "file_extension": ".py",
   "mimetype": "text/x-python",
   "name": "python",
   "nbconvert_exporter": "python",
   "pygments_lexer": "ipython3",
   "version": "3.7.3"
  }
 },
 "nbformat": 4,
 "nbformat_minor": 4
}
